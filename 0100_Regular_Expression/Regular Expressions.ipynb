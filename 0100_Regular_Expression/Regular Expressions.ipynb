{
 "cells": [
  {
   "cell_type": "markdown",
   "metadata": {},
   "source": [
    "# Regular expressions\n",
    "\n",
    "**Task:** Extract the dates using regular expressions."
   ]
  },
  {
   "cell_type": "code",
   "execution_count": 3,
   "metadata": {},
   "outputs": [
    {
     "name": "stdout",
     "output_type": "stream",
     "text": [
      "<re.Match object; span=(12, 16), match='a12a'>\n"
     ]
    }
   ],
   "source": [
    "import re\n",
    "\n",
    "p = re.compile(\"a[0-9]{2}a\")\n",
    "\n",
    "print(p.search(\"Hallo a123a a12a\"))"
   ]
  },
  {
   "cell_type": "code",
   "execution_count": 4,
   "metadata": {},
   "outputs": [
    {
     "name": "stdout",
     "output_type": "stream",
     "text": [
      "05.06.2018\n",
      "2018/14/05\n",
      "05/2018\n",
      "04.06.2018\n",
      "01/2018\n",
      "06.07.2018\n"
     ]
    }
   ],
   "source": [
    "import re\n",
    "\n",
    "sentences = [\n",
    "    \"Am 05.06.2018 findet ein cooles Event statt\",\n",
    "    \"Please follow our invitation and visit us on 2018/14/05\",\n",
    "    \"Im Monat 05/2018 ist oft gutes Wetter\",\n",
    "    \"Der Lottogewinn war 10.000.000€ groß. Er wurde am 04.06.2018 ausgeschüttet\",\n",
    "    \"Im Monat 01/2018 war in Sofia heftiger Smog\",\n",
    "    \"Dein Flug in den Urlaub geht am 06.07.2018\",\n",
    "]\n",
    "\n",
    "re1 = re.compile(\"[0-9]{2}\\.[0-9]{2}\\.[0-9]{4}\")\n",
    "re2 = re.compile(\"[0-9]{4}/[0-9]{2}/[0-9]{2}\")\n",
    "re3 = re.compile(\"[0-9]{2}/[0-9]{4}\")\n",
    "\n",
    "for sentence in sentences:\n",
    "    \n",
    "    match1 = re1.search(sentence)\n",
    "    match2 = re2.search(sentence)\n",
    "    match3 = re3.search(sentence)\n",
    "    \n",
    "    if match1: \n",
    "        print(match1[0])\n",
    "    elif match2: \n",
    "        print(match2[0])\n",
    "    elif match3: \n",
    "        print(match3[0])\n",
    "    \n"
   ]
  },
  {
   "cell_type": "code",
   "execution_count": 5,
   "metadata": {},
   "outputs": [
    {
     "name": "stdout",
     "output_type": "stream",
     "text": [
      "05.06.2018\n",
      "14.05.2018\n",
      "01.05.2018\n",
      "04.06.2018\n",
      "01.01.2018\n",
      "06.07.2018\n"
     ]
    }
   ],
   "source": [
    "from datetime import datetime\n",
    "\n",
    "re1 = re.compile(\"[0-9]{2}\\.[0-9]{2}\\.[0-9]{4}\")\n",
    "re2 = re.compile(\"[0-9]{4}/[0-9]{2}/[0-9]{2}\")\n",
    "re3 = re.compile(\"[0-9]{2}/[0-9]{4}\")\n",
    "\n",
    "dates = []\n",
    "for sentence in sentences:\n",
    "    \n",
    "    match1 = re1.search(sentence)\n",
    "    match2 = re2.search(sentence)\n",
    "    match3 = re3.search(sentence)\n",
    "    \n",
    "    if match1: \n",
    "        dates.append(datetime.strptime(match1[0], \"%d.%m.%Y\"))\n",
    "    elif match2: \n",
    "        dates.append(datetime.strptime(match2[0], \"%Y/%d/%m\"))\n",
    "    elif match3: \n",
    "        dates.append(datetime.strptime(match3[0], \"%m/%Y\"))\n",
    "        \n",
    "for d in dates:\n",
    "    print(d.strftime(\"%d.%m.%Y\"))"
   ]
  }
 ],
 "metadata": {
  "kernelspec": {
   "display_name": "Python 3",
   "language": "python",
   "name": "python3"
  },
  "language_info": {
   "codemirror_mode": {
    "name": "ipython",
    "version": 3
   },
   "file_extension": ".py",
   "mimetype": "text/x-python",
   "name": "python",
   "nbconvert_exporter": "python",
   "pygments_lexer": "ipython3",
   "version": "3.7.6"
  }
 },
 "nbformat": 4,
 "nbformat_minor": 2
}
