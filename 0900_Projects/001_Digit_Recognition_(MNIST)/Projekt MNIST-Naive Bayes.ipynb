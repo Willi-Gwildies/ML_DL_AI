{
 "cells": [
  {
   "cell_type": "code",
   "execution_count": 3,
   "metadata": {},
   "outputs": [],
   "source": [
    "import gzip\n",
    "import os\n",
    "import numpy as np\n",
    "\n",
    "rows = 10000\n",
    "\n",
    "train_data = os.path.join(\"..\", \"data\", \"mnist\", \"train-images-idx3-ubyte.gz\")\n",
    "train_labels = os.path.join(\"..\", \"data\", \"mnist\", \"train-labels-idx1-ubyte.gz\")\n",
    "\n",
    "test_data = os.path.join(\"..\", \"data\", \"mnist\", \"t10k-images-idx3-ubyte.gz\")\n",
    "test_labels = os.path.join(\"..\", \"data\", \"mnist\", \"t10k-labels-idx1-ubyte.gz\")"
   ]
  },
  {
   "cell_type": "code",
   "execution_count": 4,
   "metadata": {},
   "outputs": [
    {
     "name": "stdout",
     "output_type": "stream",
     "text": [
      "(10000, 28, 28)\n"
     ]
    }
   ],
   "source": [
    "def mnist_images(filename):\n",
    "    with gzip.open(filename, \"rb\") as file:\n",
    "        data = np.frombuffer(file.read(), np.uint8, offset = 16)\n",
    "        return data.reshape(-1, 28, 28) / 255\n",
    "    \n",
    "def mnist_labels(filename):\n",
    "    with gzip.open(filename, \"rb\") as file:\n",
    "        return np.frombuffer(file.read(), np.uint8, offset = 8)\n",
    "\n",
    "X_train = mnist_images(train_data)[:rows]\n",
    "y_train = mnist_labels(train_labels)[:rows]\n",
    "\n",
    "X_test = mnist_images(test_data)[:rows]\n",
    "y_test = mnist_labels(test_labels)[:rows]\n",
    "\n",
    "print(X_train.shape)"
   ]
  },
  {
   "cell_type": "code",
   "execution_count": 5,
   "metadata": {},
   "outputs": [
    {
     "name": "stdout",
     "output_type": "stream",
     "text": [
      "7\n"
     ]
    },
    {
     "data": {
      "image/png": "[encoded data removed]",
      "text/plain": [
       "<Figure size 432x288 with 1 Axes>"
      ]
     },
     "metadata": {
      "needs_background": "light"
     },
     "output_type": "display_data"
    }
   ],
   "source": [
    "%matplotlib inline\n",
    "\n",
    "import matplotlib.pyplot as plt\n",
    "\n",
    "print(y_train[-1])\n",
    "plt.imshow(X_train[-1])\n",
    "plt.show()"
   ]
  },
  {
   "cell_type": "code",
   "execution_count": 6,
   "metadata": {},
   "outputs": [],
   "source": [
    "from sklearn.naive_bayes import GaussianNB\n",
    "\n",
    "model = GaussianNB()\n",
    "model.fit(X_train.reshape(-1, 784), y_train)\n",
    "GaussianNB?"
   ]
  },
  {
   "cell_type": "code",
   "execution_count": 7,
   "metadata": {},
   "outputs": [
    {
     "data": {
      "text/plain": [
       "0.5738"
      ]
     },
     "execution_count": 7,
     "metadata": {},
     "output_type": "execute_result"
    }
   ],
   "source": [
    "model.score(X_test.reshape(-1, 784), y_test)"
   ]
  },
  {
   "cell_type": "code",
   "execution_count": null,
   "metadata": {
    "collapsed": true
   },
   "outputs": [],
   "source": []
  }
 ],
 "metadata": {
  "kernelspec": {
   "display_name": "Python 3",
   "language": "python",
   "name": "python3"
  },
  "language_info": {
   "codemirror_mode": {
    "name": "ipython",
    "version": 3
   },
   "file_extension": ".py",
   "mimetype": "text/x-python",
   "name": "python",
   "nbconvert_exporter": "python",
   "pygments_lexer": "ipython3",
   "version": "3.7.6"
  }
 },
 "nbformat": 4,
 "nbformat_minor": 2
}
