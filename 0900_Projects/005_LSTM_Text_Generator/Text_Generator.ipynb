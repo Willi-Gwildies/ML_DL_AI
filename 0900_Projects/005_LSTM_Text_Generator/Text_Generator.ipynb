{
 "cells": [
  {
   "cell_type": "code",
   "execution_count": 1,
   "metadata": {},
   "outputs": [],
   "source": [
    "import pickle\n",
    "\n",
    "with open(\"char_to_int.pickle\", \"rb\") as file:\n",
    "    char_to_int = pickle.load(file)\n",
    "    \n",
    "with open(\"int_to_char.pickle\", \"rb\") as file:\n",
    "    int_to_char = pickle.load(file)"
   ]
  },
  {
   "cell_type": "code",
   "execution_count": 2,
   "metadata": {},
   "outputs": [],
   "source": [
    "with open(\"verwandlung.txt\", \"r\", encoding=\"utf-8\") as file:\n",
    "    contents = file.read()\n",
    "    \n",
    "contents = \"\\n\".join(contents.split(\"\\n\")[59:1952])"
   ]
  },
  {
   "cell_type": "code",
   "execution_count": 3,
   "metadata": {},
   "outputs": [
    {
     "name": "stdout",
     "output_type": "stream",
     "text": [
      "Model: \"sequential\"\n",
      "_________________________________________________________________\n",
      "Layer (type)                 Output Shape              Param #   \n",
      "=================================================================\n",
      "lstm_1 (LSTM)                (None, 128)               100864    \n",
      "_________________________________________________________________\n",
      "dense_1 (Dense)              (None, 68)                8772      \n",
      "=================================================================\n",
      "Total params: 109,636\n",
      "Trainable params: 109,636\n",
      "Non-trainable params: 0\n",
      "_________________________________________________________________\n"
     ]
    }
   ],
   "source": [
    "from keras.models import load_model\n",
    "\n",
    "model = load_model(\"weights.hdf5\")\n",
    "\n",
    "model.summary()"
   ]
  },
  {
   "cell_type": "code",
   "execution_count": 4,
   "metadata": {},
   "outputs": [],
   "source": [
    "line = contents[100:140]"
   ]
  },
  {
   "cell_type": "code",
   "execution_count": 5,
   "metadata": {},
   "outputs": [
    {
     "name": "stdout",
     "output_type": "stream",
     "text": [
      "ungeheueren Ungeziefer verwandelt. Er lagte einen Cheme hatte. Um sanzte Violine haben, vorgesehre, da er kminne,« riefar schließ.« Gregor der Vater von beine Tisterredungen jetet\n",
      "zurüssa und\n",
      "Herr matelte Gregors Zeitrieten seinem Tebenbringen wärte Ausigen können, »konne zu greichvorsoruhöte zu hurten zu schleigen.\n",
      "Und der Vater hattig begenf zu unt wohlig\n",
      "herzicht\n",
      "warender Bett freigermäckt! Sie sehr gehenken und nicht die er, ging\n",
      "zuößen merkte zur\n",
      "Seit; eingelangtzweckt, weich würden sich die Worte sich unterher, öffnete sich wieder, der er sich andere Antergelief verbessen und nie Tür hören, in eine Verwürklich unsprauen als seiner leicht auch Gregor schweren aufgellegen, wie hief drückte sich wiefo der Produrist materte, im errilchen türmuch\n",
      "gesandentützige verschicke klomne Parn spaters, daß alles unter unf sich gezagene Schlossel zurückkung, wie der Vaters erblicder, ein Stimmert, um vergleichtete sich\n",
      "zu dann, nicht dessen müssen?« Zeit Vorsörenhert rußte, an der zweitFelgerein, wie er machen Gregors in alsen Atzeli"
     ]
    }
   ],
   "source": [
    "import numpy as np\n",
    "from keras.utils import to_categorical\n",
    "\n",
    "print(line, end=\"\")\n",
    "\n",
    "seed = [char_to_int[l] for l in line]\n",
    "seed = to_categorical(seed, num_classes=len(char_to_int))\n",
    "\n",
    "for i in range(0, 1000):\n",
    "    prediction = model.predict(seed.reshape(1, 40, 68))\n",
    "    prediction = prediction[0]\n",
    "        \n",
    "    pos = np.random.choice(68, 1, p=prediction)[0]\n",
    "    print(int_to_char[pos], end=\"\")\n",
    "    \n",
    "    new_char = to_categorical([pos], num_classes=len(char_to_int))\n",
    "        \n",
    "    seed = seed[1:,:]\n",
    "    seed = np.append(seed, new_char, axis=0)"
   ]
  },
  {
   "cell_type": "code",
   "execution_count": 6,
   "metadata": {},
   "outputs": [
    {
     "data": {
      "text/plain": [
       "array([1])"
      ]
     },
     "execution_count": 6,
     "metadata": {},
     "output_type": "execute_result"
    }
   ],
   "source": [
    "np.random.choice(3, 1, p=[0.1, 0.8, 0.1])"
   ]
  },
  {
   "cell_type": "code",
   "execution_count": null,
   "metadata": {},
   "outputs": [],
   "source": []
  }
 ],
 "metadata": {
  "kernelspec": {
   "display_name": "Python 3",
   "language": "python",
   "name": "python3"
  },
  "language_info": {
   "codemirror_mode": {
    "name": "ipython",
    "version": 3
   },
   "file_extension": ".py",
   "mimetype": "text/x-python",
   "name": "python",
   "nbconvert_exporter": "python",
   "pygments_lexer": "ipython3",
   "version": "3.7.6"
  }
 },
 "nbformat": 4,
 "nbformat_minor": 2
}
